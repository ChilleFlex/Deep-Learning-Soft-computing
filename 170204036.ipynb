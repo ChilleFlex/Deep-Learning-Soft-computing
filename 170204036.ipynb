{
  "nbformat": 4,
  "nbformat_minor": 0,
  "metadata": {
    "colab": {
      "name": "170204036.ipynb",
      "provenance": [],
      "collapsed_sections": []
    },
    "kernelspec": {
      "name": "python3",
      "display_name": "Python 3"
    },
    "language_info": {
      "name": "python"
    }
  },
  "cells": [
    {
      "cell_type": "code",
      "execution_count": 126,
      "metadata": {
        "id": "L4KKXzg6x0MF"
      },
      "outputs": [],
      "source": [
        "from sklearn.feature_extraction.text import CountVectorizer\n",
        "from sklearn.feature_extraction.text import TfidfVectorizer\n",
        "import seaborn as sns\n",
        "import pandas as pd\n",
        "import torch\n",
        "import torch.nn as nn\n",
        "import torch.optim as optim\n",
        "from sklearn.model_selection import train_test_split\n",
        "from torch.utils.data import DataLoader, Dataset"
      ]
    },
    {
      "cell_type": "code",
      "source": [
        "import torch\n",
        "from torch import nn\n",
        "from torch.utils.data import DataLoader, Dataset\n",
        "\n",
        "\n",
        "from sklearn.feature_extraction.text import CountVectorizer\n",
        "\n",
        "from sklearn.model_selection import train_test_split\n",
        "from sklearn.metrics import accuracy_score\n",
        "from sklearn.metrics import precision_score\n",
        "from sklearn.metrics import recall_score\n",
        "from sklearn.metrics import f1_score\n",
        "from sklearn.metrics import cohen_kappa_score\n",
        "from sklearn.metrics import roc_auc_score\n",
        "from sklearn.metrics import confusion_matrix\n",
        "from sklearn.metrics import classification_report"
      ],
      "metadata": {
        "id": "MXGXtV84SH1K"
      },
      "execution_count": 127,
      "outputs": []
    },
    {
      "cell_type": "code",
      "source": [
        "device = torch.device('cuda' if torch.cuda.is_available() else 'cpu')\n",
        "device"
      ],
      "metadata": {
        "colab": {
          "base_uri": "https://localhost:8080/"
        },
        "id": "eIG5o4myx8iB",
        "outputId": "531ff57b-e967-45ff-a441-d062a19f02d8"
      },
      "execution_count": 128,
      "outputs": [
        {
          "output_type": "execute_result",
          "data": {
            "text/plain": [
              "device(type='cpu')"
            ]
          },
          "metadata": {},
          "execution_count": 128
        }
      ]
    },
    {
      "cell_type": "code",
      "source": [
        "from google.colab import drive\n",
        "drive.mount('/content/drive')"
      ],
      "metadata": {
        "colab": {
          "base_uri": "https://localhost:8080/"
        },
        "id": "moXLPLfGEPpn",
        "outputId": "0c42a24b-b4bd-4e97-e580-fa3bfe59945f"
      },
      "execution_count": 129,
      "outputs": [
        {
          "output_type": "stream",
          "name": "stdout",
          "text": [
            "Drive already mounted at /content/drive; to attempt to forcibly remount, call drive.mount(\"/content/drive\", force_remount=True).\n"
          ]
        }
      ]
    },
    {
      "cell_type": "code",
      "source": [
        "df = pd.read_csv('/content/drive/MyDrive/SOFT_COMP_LAB/Dataset.csv')\n",
        "df.head()"
      ],
      "metadata": {
        "colab": {
          "base_uri": "https://localhost:8080/",
          "height": 206
        },
        "id": "DujFBV4qyDx8",
        "outputId": "ff85de35-65cb-49c1-ad04-ae0c8ea65893"
      },
      "execution_count": 130,
      "outputs": [
        {
          "output_type": "execute_result",
          "data": {
            "text/html": [
              "\n",
              "  <div id=\"df-63a42621-73fa-4589-b691-08c92f06e3db\">\n",
              "    <div class=\"colab-df-container\">\n",
              "      <div>\n",
              "<style scoped>\n",
              "    .dataframe tbody tr th:only-of-type {\n",
              "        vertical-align: middle;\n",
              "    }\n",
              "\n",
              "    .dataframe tbody tr th {\n",
              "        vertical-align: top;\n",
              "    }\n",
              "\n",
              "    .dataframe thead th {\n",
              "        text-align: right;\n",
              "    }\n",
              "</style>\n",
              "<table border=\"1\" class=\"dataframe\">\n",
              "  <thead>\n",
              "    <tr style=\"text-align: right;\">\n",
              "      <th></th>\n",
              "      <th>Text</th>\n",
              "      <th>Sentiment</th>\n",
              "    </tr>\n",
              "  </thead>\n",
              "  <tbody>\n",
              "    <tr>\n",
              "      <th>0</th>\n",
              "      <td>Kickers on my watchlist XIDE TIT SOQ PNK CPW B...</td>\n",
              "      <td>1</td>\n",
              "    </tr>\n",
              "    <tr>\n",
              "      <th>1</th>\n",
              "      <td>user: AAP MOVIE. 55% return for the FEA/GEED i...</td>\n",
              "      <td>1</td>\n",
              "    </tr>\n",
              "    <tr>\n",
              "      <th>2</th>\n",
              "      <td>user I'd be afraid to short AMZN - they are lo...</td>\n",
              "      <td>1</td>\n",
              "    </tr>\n",
              "    <tr>\n",
              "      <th>3</th>\n",
              "      <td>MNTA Over 12.00</td>\n",
              "      <td>1</td>\n",
              "    </tr>\n",
              "    <tr>\n",
              "      <th>4</th>\n",
              "      <td>OI  Over 21.37</td>\n",
              "      <td>1</td>\n",
              "    </tr>\n",
              "  </tbody>\n",
              "</table>\n",
              "</div>\n",
              "      <button class=\"colab-df-convert\" onclick=\"convertToInteractive('df-63a42621-73fa-4589-b691-08c92f06e3db')\"\n",
              "              title=\"Convert this dataframe to an interactive table.\"\n",
              "              style=\"display:none;\">\n",
              "        \n",
              "  <svg xmlns=\"http://www.w3.org/2000/svg\" height=\"24px\"viewBox=\"0 0 24 24\"\n",
              "       width=\"24px\">\n",
              "    <path d=\"M0 0h24v24H0V0z\" fill=\"none\"/>\n",
              "    <path d=\"M18.56 5.44l.94 2.06.94-2.06 2.06-.94-2.06-.94-.94-2.06-.94 2.06-2.06.94zm-11 1L8.5 8.5l.94-2.06 2.06-.94-2.06-.94L8.5 2.5l-.94 2.06-2.06.94zm10 10l.94 2.06.94-2.06 2.06-.94-2.06-.94-.94-2.06-.94 2.06-2.06.94z\"/><path d=\"M17.41 7.96l-1.37-1.37c-.4-.4-.92-.59-1.43-.59-.52 0-1.04.2-1.43.59L10.3 9.45l-7.72 7.72c-.78.78-.78 2.05 0 2.83L4 21.41c.39.39.9.59 1.41.59.51 0 1.02-.2 1.41-.59l7.78-7.78 2.81-2.81c.8-.78.8-2.07 0-2.86zM5.41 20L4 18.59l7.72-7.72 1.47 1.35L5.41 20z\"/>\n",
              "  </svg>\n",
              "      </button>\n",
              "      \n",
              "  <style>\n",
              "    .colab-df-container {\n",
              "      display:flex;\n",
              "      flex-wrap:wrap;\n",
              "      gap: 12px;\n",
              "    }\n",
              "\n",
              "    .colab-df-convert {\n",
              "      background-color: #E8F0FE;\n",
              "      border: none;\n",
              "      border-radius: 50%;\n",
              "      cursor: pointer;\n",
              "      display: none;\n",
              "      fill: #1967D2;\n",
              "      height: 32px;\n",
              "      padding: 0 0 0 0;\n",
              "      width: 32px;\n",
              "    }\n",
              "\n",
              "    .colab-df-convert:hover {\n",
              "      background-color: #E2EBFA;\n",
              "      box-shadow: 0px 1px 2px rgba(60, 64, 67, 0.3), 0px 1px 3px 1px rgba(60, 64, 67, 0.15);\n",
              "      fill: #174EA6;\n",
              "    }\n",
              "\n",
              "    [theme=dark] .colab-df-convert {\n",
              "      background-color: #3B4455;\n",
              "      fill: #D2E3FC;\n",
              "    }\n",
              "\n",
              "    [theme=dark] .colab-df-convert:hover {\n",
              "      background-color: #434B5C;\n",
              "      box-shadow: 0px 1px 3px 1px rgba(0, 0, 0, 0.15);\n",
              "      filter: drop-shadow(0px 1px 2px rgba(0, 0, 0, 0.3));\n",
              "      fill: #FFFFFF;\n",
              "    }\n",
              "  </style>\n",
              "\n",
              "      <script>\n",
              "        const buttonEl =\n",
              "          document.querySelector('#df-63a42621-73fa-4589-b691-08c92f06e3db button.colab-df-convert');\n",
              "        buttonEl.style.display =\n",
              "          google.colab.kernel.accessAllowed ? 'block' : 'none';\n",
              "\n",
              "        async function convertToInteractive(key) {\n",
              "          const element = document.querySelector('#df-63a42621-73fa-4589-b691-08c92f06e3db');\n",
              "          const dataTable =\n",
              "            await google.colab.kernel.invokeFunction('convertToInteractive',\n",
              "                                                     [key], {});\n",
              "          if (!dataTable) return;\n",
              "\n",
              "          const docLinkHtml = 'Like what you see? Visit the ' +\n",
              "            '<a target=\"_blank\" href=https://colab.research.google.com/notebooks/data_table.ipynb>data table notebook</a>'\n",
              "            + ' to learn more about interactive tables.';\n",
              "          element.innerHTML = '';\n",
              "          dataTable['output_type'] = 'display_data';\n",
              "          await google.colab.output.renderOutput(dataTable, element);\n",
              "          const docLink = document.createElement('div');\n",
              "          docLink.innerHTML = docLinkHtml;\n",
              "          element.appendChild(docLink);\n",
              "        }\n",
              "      </script>\n",
              "    </div>\n",
              "  </div>\n",
              "  "
            ],
            "text/plain": [
              "                                                Text  Sentiment\n",
              "0  Kickers on my watchlist XIDE TIT SOQ PNK CPW B...          1\n",
              "1  user: AAP MOVIE. 55% return for the FEA/GEED i...          1\n",
              "2  user I'd be afraid to short AMZN - they are lo...          1\n",
              "3                                  MNTA Over 12.00            1\n",
              "4                                   OI  Over 21.37            1"
            ]
          },
          "metadata": {},
          "execution_count": 130
        }
      ]
    },
    {
      "cell_type": "code",
      "source": [
        "df = df.sample(frac = 1)\n",
        "\n",
        "from sklearn.model_selection import train_test_split\n",
        "text = df['Text'].values\n",
        "label = df['Sentiment'].values\n",
        "text_train, text_test, label_train, label_test = train_test_split(text, label, test_size=0.20, random_state=36)"
      ],
      "metadata": {
        "id": "BcvYj1RezEdH"
      },
      "execution_count": 131,
      "outputs": []
    },
    {
      "cell_type": "markdown",
      "source": [
        "# One hot embedding + CNN"
      ],
      "metadata": {
        "id": "CsyH_l7y70c2"
      }
    },
    {
      "cell_type": "code",
      "source": [
        " from keras.preprocessing.text import Tokenizer\n",
        " tokenizer = Tokenizer()\n",
        " tokenizer.fit_on_texts(text_train)\n",
        " Xcnn_train = tokenizer.texts_to_sequences(text_train)\n",
        " Xcnn_test = tokenizer.texts_to_sequences(text_test)\n",
        " vocab_size = len(tokenizer.word_index)+1\n",
        " print(text_train[1])\n",
        " print(Xcnn_train[1]) "
      ],
      "metadata": {
        "colab": {
          "base_uri": "https://localhost:8080/"
        },
        "id": "PAcGBX4V7wRH",
        "outputId": "392cd5b7-caf0-4912-d27d-6bfcfcf38cf3"
      },
      "execution_count": 133,
      "outputs": [
        {
          "output_type": "stream",
          "name": "stdout",
          "text": [
            "As the coronavirus pandemic intensifies, adherents of the Financial Independence, Retire Early movement are doublinâ€¦ https://t.co/klzYRO889R\n",
            "[34, 1, 62, 334, 2202, 4046, 6, 1, 626, 4047, 4048, 402, 2203, 37, 4049, 13, 11, 12, 4050]\n"
          ]
        }
      ]
    },
    {
      "cell_type": "code",
      "source": [
        " from keras.preprocessing.sequence import pad_sequences\n",
        " maxlen = 150\n",
        " Xcnn_train = pad_sequences(Xcnn_train, padding='post', maxlen=maxlen)\n",
        " Xcnn_test = pad_sequences(Xcnn_test, padding='post', maxlen=maxlen)\n",
        " print(Xcnn_train[0, :]) "
      ],
      "metadata": {
        "colab": {
          "base_uri": "https://localhost:8080/"
        },
        "id": "qS0SglqD8ICE",
        "outputId": "b6df5709-2ad2-453a-fbf0-84774fd28563"
      },
      "execution_count": 134,
      "outputs": [
        {
          "output_type": "stream",
          "name": "stdout",
          "text": [
            "[ 855   90  855   48   65 4044    4   58  231 1010 2811 1822    2  596\n",
            "  255  154 1105 1823 2812  156 2201 4045    0    0    0    0    0    0\n",
            "    0    0    0    0    0    0    0    0    0    0    0    0    0    0\n",
            "    0    0    0    0    0    0    0    0    0    0    0    0    0    0\n",
            "    0    0    0    0    0    0    0    0    0    0    0    0    0    0\n",
            "    0    0    0    0    0    0    0    0    0    0    0    0    0    0\n",
            "    0    0    0    0    0    0    0    0    0    0    0    0    0    0\n",
            "    0    0    0    0    0    0    0    0    0    0    0    0    0    0\n",
            "    0    0    0    0    0    0    0    0    0    0    0    0    0    0\n",
            "    0    0    0    0    0    0    0    0    0    0    0    0    0    0\n",
            "    0    0    0    0    0    0    0    0    0    0]\n"
          ]
        }
      ]
    },
    {
      "cell_type": "code",
      "source": [
        "from keras.models import Sequential\n",
        "from keras import layers \n",
        "import tensorflow as tf"
      ],
      "metadata": {
        "id": "VARF1j9s8PVi"
      },
      "execution_count": 135,
      "outputs": []
    },
    {
      "cell_type": "code",
      "source": [
        "seed = 170204036\n",
        "torch.manual_seed(seed)\n",
        "embedding_dim = 200\n",
        "textcnnmodel = Sequential()\n",
        "textcnnmodel.add(layers.Embedding(vocab_size, embedding_dim, input_length=maxlen))\n",
        "textcnnmodel.add(layers.Conv1D(filters=256, kernel_size=2, activation='relu'))\n",
        "textcnnmodel.add(layers.MaxPooling1D(pool_size = 2))\n",
        "textcnnmodel.add(layers.Conv1D(filters=128, kernel_size=3, activation='relu'))\n",
        "textcnnmodel.add(layers.MaxPooling1D(pool_size = 2))\n",
        "textcnnmodel.add(layers.Conv1D(filters=32, kernel_size=4, activation='relu'))\n",
        "textcnnmodel.add(layers.GlobalMaxPooling1D())\n",
        "textcnnmodel.add(layers.Dense(16, activation='relu'))\n",
        "textcnnmodel.add(layers.Dense(1, activation='sigmoid'))\n",
        "textcnnmodel.compile(optimizer='adam',\n",
        "              loss='binary_crossentropy',\n",
        "              metrics=['accuracy'])\n",
        "\n",
        "tf.keras.utils.plot_model(textcnnmodel, show_shapes = True, show_layer_names = True)\n"
      ],
      "metadata": {
        "colab": {
          "base_uri": "https://localhost:8080/",
          "height": 1000
        },
        "id": "krjvmJQv8S4t",
        "outputId": "178d236c-8d07-44fc-f962-c44c0cfbc795"
      },
      "execution_count": 136,
      "outputs": [
        {
          "output_type": "execute_result",
          "data": {
            "image/png": "[encoded data removed]",
            "text/plain": [
              "<IPython.core.display.Image object>"
            ]
          },
          "metadata": {},
          "execution_count": 136
        }
      ]
    },
    {
      "cell_type": "code",
      "source": [
        "history = textcnnmodel.fit(Xcnn_train, label_train,\n",
        "                    epochs=50,\n",
        "                    verbose=True,\n",
        "                    validation_data=(Xcnn_test, label_test),\n",
        "                    batch_size=10)\n",
        "loss, accuracy = textcnnmodel.evaluate(Xcnn_train, label_train, verbose=False)\n",
        "print(\"Training Accuracy: {:.4f}\".format(accuracy))\n",
        "loss, accuracy = textcnnmodel.evaluate(Xcnn_test, label_test, verbose=False)\n",
        "print(\"Testing Accuracy:  {:.4f}\".format(accuracy))"
      ],
      "metadata": {
        "colab": {
          "base_uri": "https://localhost:8080/"
        },
        "id": "LjRAyeIF83fN",
        "outputId": "9bd11dbe-bbcd-4bc5-d81b-1f9cb95138ef"
      },
      "execution_count": 137,
      "outputs": [
        {
          "output_type": "stream",
          "name": "stdout",
          "text": [
            "Epoch 1/50\n",
            "464/464 [==============================] - 30s 62ms/step - loss: -12563.8975 - accuracy: 0.1973 - val_loss: -127673.2500 - val_accuracy: 0.3391\n",
            "Epoch 2/50\n",
            "464/464 [==============================] - 28s 60ms/step - loss: -8417391.0000 - accuracy: 0.2960 - val_loss: -29199866.0000 - val_accuracy: 0.2804\n",
            "Epoch 3/50\n",
            "464/464 [==============================] - 28s 61ms/step - loss: -253050736.0000 - accuracy: 0.3012 - val_loss: -518011424.0000 - val_accuracy: 0.2399\n",
            "Epoch 4/50\n",
            "464/464 [==============================] - 28s 61ms/step - loss: -2406985728.0000 - accuracy: 0.3046 - val_loss: -3373973504.0000 - val_accuracy: 0.2338\n",
            "Epoch 5/50\n",
            "464/464 [==============================] - 28s 61ms/step - loss: -11673586688.0000 - accuracy: 0.3066 - val_loss: -13153302528.0000 - val_accuracy: 0.2330\n",
            "Epoch 6/50\n",
            "464/464 [==============================] - 28s 61ms/step - loss: -38181109760.0000 - accuracy: 0.3195 - val_loss: -36490145792.0000 - val_accuracy: 0.2235\n",
            "Epoch 7/50\n",
            "464/464 [==============================] - 29s 62ms/step - loss: -99150299136.0000 - accuracy: 0.3109 - val_loss: -85888049152.0000 - val_accuracy: 0.2183\n",
            "Epoch 8/50\n",
            "464/464 [==============================] - 29s 62ms/step - loss: -220506226688.0000 - accuracy: 0.3139 - val_loss: -175982231552.0000 - val_accuracy: 0.2192\n",
            "Epoch 9/50\n",
            "464/464 [==============================] - 29s 62ms/step - loss: -429779582976.0000 - accuracy: 0.3117 - val_loss: -320616235008.0000 - val_accuracy: 0.2166\n",
            "Epoch 10/50\n",
            "464/464 [==============================] - 28s 61ms/step - loss: -764024586240.0000 - accuracy: 0.3074 - val_loss: -549248368640.0000 - val_accuracy: 0.2217\n",
            "Epoch 11/50\n",
            "464/464 [==============================] - 29s 61ms/step - loss: -1276614410240.0000 - accuracy: 0.3180 - val_loss: -871972470784.0000 - val_accuracy: 0.2140\n",
            "Epoch 12/50\n",
            "464/464 [==============================] - 29s 62ms/step - loss: -2028649971712.0000 - accuracy: 0.3208 - val_loss: -1346518515712.0000 - val_accuracy: 0.2079\n",
            "Epoch 13/50\n",
            "464/464 [==============================] - 29s 62ms/step - loss: -3085848805376.0000 - accuracy: 0.3146 - val_loss: -1980176793600.0000 - val_accuracy: 0.2079\n",
            "Epoch 14/50\n",
            "464/464 [==============================] - 29s 62ms/step - loss: -4487393574912.0000 - accuracy: 0.3137 - val_loss: -2819347972096.0000 - val_accuracy: 0.2079\n",
            "Epoch 15/50\n",
            "464/464 [==============================] - 29s 62ms/step - loss: -6355802390528.0000 - accuracy: 0.3152 - val_loss: -3929286901760.0000 - val_accuracy: 0.2131\n",
            "Epoch 16/50\n",
            "464/464 [==============================] - 29s 62ms/step - loss: -8822964879360.0000 - accuracy: 0.3253 - val_loss: -5325340016640.0000 - val_accuracy: 0.2062\n",
            "Epoch 17/50\n",
            "464/464 [==============================] - 29s 62ms/step - loss: -11996650012672.0000 - accuracy: 0.3143 - val_loss: -7164122365952.0000 - val_accuracy: 0.2105\n",
            "Epoch 18/50\n",
            "464/464 [==============================] - 29s 62ms/step - loss: -16009372106752.0000 - accuracy: 0.3206 - val_loss: -9425617158144.0000 - val_accuracy: 0.2019\n",
            "Epoch 19/50\n",
            "464/464 [==============================] - 29s 61ms/step - loss: -21034921099264.0000 - accuracy: 0.3195 - val_loss: -12179817365504.0000 - val_accuracy: 0.1993\n",
            "Epoch 20/50\n",
            "464/464 [==============================] - 29s 62ms/step - loss: -27221626454016.0000 - accuracy: 0.3113 - val_loss: -15679174475776.0000 - val_accuracy: 0.2071\n",
            "Epoch 21/50\n",
            "464/464 [==============================] - 29s 62ms/step - loss: -34660025368576.0000 - accuracy: 0.3232 - val_loss: -19638268198912.0000 - val_accuracy: 0.2036\n",
            "Epoch 22/50\n",
            "464/464 [==============================] - 29s 62ms/step - loss: -43453874438144.0000 - accuracy: 0.3178 - val_loss: -24400189456384.0000 - val_accuracy: 0.2053\n",
            "Epoch 23/50\n",
            "464/464 [==============================] - 28s 61ms/step - loss: -53961285435392.0000 - accuracy: 0.3187 - val_loss: -30065364566016.0000 - val_accuracy: 0.2019\n",
            "Epoch 24/50\n",
            "464/464 [==============================] - 29s 62ms/step - loss: -66384646111232.0000 - accuracy: 0.3193 - val_loss: -36807722926080.0000 - val_accuracy: 0.2071\n",
            "Epoch 25/50\n",
            "464/464 [==============================] - 28s 61ms/step - loss: -81196197347328.0000 - accuracy: 0.3221 - val_loss: -44552480096256.0000 - val_accuracy: 0.2028\n",
            "Epoch 26/50\n",
            "464/464 [==============================] - 29s 62ms/step - loss: -98357393489920.0000 - accuracy: 0.3182 - val_loss: -53479968079872.0000 - val_accuracy: 0.2028\n",
            "Epoch 27/50\n",
            "464/464 [==============================] - 29s 62ms/step - loss: -118262285205504.0000 - accuracy: 0.3135 - val_loss: -64139426791424.0000 - val_accuracy: 0.2062\n",
            "Epoch 28/50\n",
            "464/464 [==============================] - 29s 62ms/step - loss: -141591566090240.0000 - accuracy: 0.3260 - val_loss: -76222340005888.0000 - val_accuracy: 0.2045\n",
            "Epoch 29/50\n",
            "464/464 [==============================] - 29s 62ms/step - loss: -168298041835520.0000 - accuracy: 0.3176 - val_loss: -90174776147968.0000 - val_accuracy: 0.2071\n",
            "Epoch 30/50\n",
            "464/464 [==============================] - 29s 62ms/step - loss: -199186289000448.0000 - accuracy: 0.3212 - val_loss: -106198393159680.0000 - val_accuracy: 0.2028\n",
            "Epoch 31/50\n",
            "464/464 [==============================] - 29s 62ms/step - loss: -234551469146112.0000 - accuracy: 0.3161 - val_loss: -124391413252096.0000 - val_accuracy: 0.2045\n",
            "Epoch 32/50\n",
            "464/464 [==============================] - 28s 61ms/step - loss: -274980214407168.0000 - accuracy: 0.3232 - val_loss: -144920400625664.0000 - val_accuracy: 0.2045\n",
            "Epoch 33/50\n",
            "464/464 [==============================] - 29s 62ms/step - loss: -320560353509376.0000 - accuracy: 0.3217 - val_loss: -168202596253696.0000 - val_accuracy: 0.1984\n",
            "Epoch 34/50\n",
            "464/464 [==============================] - 29s 62ms/step - loss: -371963897839616.0000 - accuracy: 0.3141 - val_loss: -194700799639552.0000 - val_accuracy: 0.2028\n",
            "Epoch 35/50\n",
            "464/464 [==============================] - 29s 62ms/step - loss: -430348039094272.0000 - accuracy: 0.3234 - val_loss: -223879180058624.0000 - val_accuracy: 0.2010\n",
            "Epoch 36/50\n",
            "464/464 [==============================] - 29s 62ms/step - loss: -495871724617728.0000 - accuracy: 0.3245 - val_loss: -256191628312576.0000 - val_accuracy: 0.1993\n",
            "Epoch 37/50\n",
            "464/464 [==============================] - 29s 62ms/step - loss: -568024121737216.0000 - accuracy: 0.3083 - val_loss: -294057720938496.0000 - val_accuracy: 0.2028\n",
            "Epoch 38/50\n",
            "464/464 [==============================] - 29s 62ms/step - loss: -647619999170560.0000 - accuracy: 0.3327 - val_loss: -331871049220096.0000 - val_accuracy: 0.1976\n",
            "Epoch 39/50\n",
            "464/464 [==============================] - 29s 62ms/step - loss: -735865806520320.0000 - accuracy: 0.3182 - val_loss: -375923488587776.0000 - val_accuracy: 0.1984\n",
            "Epoch 40/50\n",
            "464/464 [==============================] - 29s 62ms/step - loss: -833182651908096.0000 - accuracy: 0.3223 - val_loss: -425163308924928.0000 - val_accuracy: 0.2028\n",
            "Epoch 41/50\n",
            "464/464 [==============================] - 29s 62ms/step - loss: -942011754479616.0000 - accuracy: 0.3219 - val_loss: -478709337292800.0000 - val_accuracy: 0.2002\n",
            "Epoch 42/50\n",
            "464/464 [==============================] - 29s 62ms/step - loss: -1060367497166848.0000 - accuracy: 0.3228 - val_loss: -536679148421120.0000 - val_accuracy: 0.2002\n",
            "Epoch 43/50\n",
            "464/464 [==============================] - 29s 62ms/step - loss: -1189980818898944.0000 - accuracy: 0.3251 - val_loss: -601041884151808.0000 - val_accuracy: 0.2002\n",
            "Epoch 44/50\n",
            "464/464 [==============================] - 29s 62ms/step - loss: -1332666477576192.0000 - accuracy: 0.3128 - val_loss: -673315110780928.0000 - val_accuracy: 0.2019\n",
            "Epoch 45/50\n",
            "464/464 [==============================] - 29s 62ms/step - loss: -1491978357309440.0000 - accuracy: 0.3262 - val_loss: -751299570171904.0000 - val_accuracy: 0.2019\n",
            "Epoch 46/50\n",
            "464/464 [==============================] - 29s 62ms/step - loss: -1663369161474048.0000 - accuracy: 0.3202 - val_loss: -833438269571072.0000 - val_accuracy: 0.2028\n",
            "Epoch 47/50\n",
            "464/464 [==============================] - 29s 62ms/step - loss: -1848298105208832.0000 - accuracy: 0.3219 - val_loss: -924425138470912.0000 - val_accuracy: 0.2019\n",
            "Epoch 48/50\n",
            "464/464 [==============================] - 29s 62ms/step - loss: -2050464094879744.0000 - accuracy: 0.3318 - val_loss: -1020807023165440.0000 - val_accuracy: 0.2002\n",
            "Epoch 49/50\n",
            "464/464 [==============================] - 29s 63ms/step - loss: -2273205125382144.0000 - accuracy: 0.3115 - val_loss: -1131103662374912.0000 - val_accuracy: 0.2028\n",
            "Epoch 50/50\n",
            "464/464 [==============================] - 29s 63ms/step - loss: -2512757194752000.0000 - accuracy: 0.3262 - val_loss: -1247164147695616.0000 - val_accuracy: 0.2019\n",
            "Training Accuracy: 0.3459\n",
            "Testing Accuracy:  0.2019\n"
          ]
        }
      ]
    },
    {
      "cell_type": "code",
      "source": [
        "import matplotlib.pyplot as plt\n",
        "def plot_graphs(history, string):\n",
        "  plt.plot(history.history[string])\n",
        "  plt.plot(history.history['val_'+string])\n",
        "  plt.xlabel(\"Epochs\")\n",
        "  plt.ylabel(string)\n",
        "  plt.legend([string, 'val_'+string])\n",
        "  plt.show()\n",
        "\n",
        "plot_graphs(history, 'accuracy')\n",
        "plot_graphs(history, 'loss')"
      ],
      "metadata": {
        "id": "jd5gh7EkOayT",
        "colab": {
          "base_uri": "https://localhost:8080/",
          "height": 552
        },
        "outputId": "6b8d94ba-4031-4e32-d00f-92b269f09359"
      },
      "execution_count": 139,
      "outputs": [
        {
          "output_type": "display_data",
          "data": {
            "image/png": "[encoded data removed]",
            "text/plain": [
              "<Figure size 432x288 with 1 Axes>"
            ]
          },
          "metadata": {
            "needs_background": "light"
          }
        },
        {
          "output_type": "display_data",
          "data": {
            "image/png": "[encoded data removed]",
            "text/plain": [
              "<Figure size 432x288 with 1 Axes>"
            ]
          },
          "metadata": {
            "needs_background": "light"
          }
        }
      ]
    },
    {
      "cell_type": "code",
      "source": [
        "import numpy as np\n",
        "from sklearn.metrics import accuracy_score\n",
        "from sklearn.metrics import precision_score\n",
        "from sklearn.metrics import recall_score\n",
        "from sklearn.metrics import f1_score\n",
        "from sklearn.metrics import confusion_matrix\n",
        "\n",
        "y_pred = textcnnmodel.predict(Xcnn_train)\n",
        "\n",
        "y_pred = np.where(y_pred > 0, 1, -1)\n",
        "y_pred = np.reshape(y_pred, (y_pred.shape[0]))\n",
        "\n",
        "loss, accuracy = textcnnmodel.evaluate(Xcnn_train, label_train, verbose = 1)"
      ],
      "metadata": {
        "id": "0txchv4ZOgDA",
        "colab": {
          "base_uri": "https://localhost:8080/"
        },
        "outputId": "0e18b419-d4c2-48b0-855a-a16ea3b44a8a"
      },
      "execution_count": 140,
      "outputs": [
        {
          "output_type": "stream",
          "name": "stdout",
          "text": [
            "145/145 [==============================] - 4s 30ms/step - loss: -2653112699453440.0000 - accuracy: 0.3459\n"
          ]
        }
      ]
    },
    {
      "cell_type": "code",
      "source": [
        "print('Train Loss:', loss)\n",
        "print('Train Accuracy:', accuracy_score(label_train, y_pred))\n",
        "print('Train Precision:', precision_score(label_train, y_pred))\n",
        "print('Train Recall:', recall_score(label_train, y_pred))\n",
        "print('Train F1-score:', f1_score(label_train, y_pred))"
      ],
      "metadata": {
        "id": "SHCMYRV3OhxS",
        "colab": {
          "base_uri": "https://localhost:8080/"
        },
        "outputId": "45028be6-ff46-4e2b-978f-4be69ad64e8f"
      },
      "execution_count": 141,
      "outputs": [
        {
          "output_type": "stream",
          "name": "stdout",
          "text": [
            "Train Loss: -2653112699453440.0\n",
            "Train Accuracy: 0.7012089810017271\n",
            "Train Precision: 0.9756394640682094\n",
            "Train Recall: 0.5437881873727087\n",
            "Train F1-score: 0.6983435047951176\n"
          ]
        }
      ]
    },
    {
      "cell_type": "code",
      "source": [
        "y_pred = textcnnmodel.predict(Xcnn_test)\n",
        "\n",
        "y_pred = np.where(y_pred > 0, 1, -1)\n",
        "y_pred = np.reshape(y_pred, (y_pred.shape[0]))"
      ],
      "metadata": {
        "id": "_I93eF3DOkgh"
      },
      "execution_count": 64,
      "outputs": []
    },
    {
      "cell_type": "markdown",
      "source": [
        "# BOW + NN"
      ],
      "metadata": {
        "id": "w3o35v-AOnTM"
      }
    },
    {
      "cell_type": "code",
      "source": [
        "# get a word count per of text\n",
        "def word_count(words):\n",
        "    return len(words.split())"
      ],
      "metadata": {
        "id": "WazbS2DPS2oi"
      },
      "execution_count": 66,
      "outputs": []
    },
    {
      "cell_type": "code",
      "source": [
        "from nltk.stem.porter import PorterStemmer\n",
        "from nltk import word_tokenize, WordNetLemmatizer\n",
        "import nltk\n",
        "import re \n",
        "import string\n",
        "import pickle\n",
        "nltk.download('wordnet')\n",
        "nltk.download('stopwords')\n",
        "nltk.download('punkt')"
      ],
      "metadata": {
        "colab": {
          "base_uri": "https://localhost:8080/"
        },
        "id": "UUKpz2_ISwgB",
        "outputId": "127f643a-292f-4be7-b012-42f8cbbe2924"
      },
      "execution_count": 67,
      "outputs": [
        {
          "output_type": "stream",
          "name": "stdout",
          "text": [
            "[nltk_data] Downloading package wordnet to /root/nltk_data...\n",
            "[nltk_data]   Package wordnet is already up-to-date!\n",
            "[nltk_data] Downloading package stopwords to /root/nltk_data...\n",
            "[nltk_data]   Package stopwords is already up-to-date!\n",
            "[nltk_data] Downloading package punkt to /root/nltk_data...\n",
            "[nltk_data]   Package punkt is already up-to-date!\n"
          ]
        },
        {
          "output_type": "execute_result",
          "data": {
            "text/plain": [
              "True"
            ]
          },
          "metadata": {},
          "execution_count": 67
        }
      ]
    },
    {
      "cell_type": "code",
      "source": [
        "from nltk.corpus import stopwords\n",
        "stop_words=set(stopwords.words('english'))\n",
        "print(stop_words)"
      ],
      "metadata": {
        "colab": {
          "base_uri": "https://localhost:8080/"
        },
        "id": "WugDy5V0SwUp",
        "outputId": "9be2b756-6953-479a-b215-e9427aefba7a"
      },
      "execution_count": 68,
      "outputs": [
        {
          "output_type": "stream",
          "name": "stdout",
          "text": [
            "{'how', 'into', \"shouldn't\", 'did', 'themselves', \"didn't\", 'doesn', 'it', 'the', 'didn', 'herself', 'out', 'ma', 'other', 'because', \"shan't\", 'not', 'being', 'does', 'for', \"doesn't\", \"couldn't\", 'whom', 'up', \"wasn't\", 'won', \"she's\", 'these', 'yourselves', 'now', 'should', 'same', 'been', 'than', 'again', 'me', 'but', 'a', 'most', 'will', 'off', 'so', 'through', 've', 'o', 'y', 'few', \"mustn't\", 'in', 'hers', 'at', 'was', 'only', \"weren't\", 'your', 'this', 'such', 'until', 'don', 'there', 'itself', 'are', 'can', 'she', 'where', \"haven't\", 'what', \"hadn't\", 'wasn', 'very', 'those', 'll', 'am', 'too', 'if', 'their', \"wouldn't\", \"hasn't\", 'needn', 'm', \"you're\", 'mightn', 'both', 'after', 's', 'has', 'mustn', 'had', 'our', 'theirs', \"you'll\", 'ourselves', 'i', \"should've\", 'shouldn', 'just', 'above', 'under', 'were', 'or', \"don't\", 'he', 'him', 'is', 'doing', 'who', 'have', \"mightn't\", 'during', 'haven', 'her', 'with', 'further', 't', 'd', 'we', \"you've\", 'ain', 'shan', \"it's\", 'from', 'do', 'why', 'over', 'no', 'yours', 'myself', 'as', 'by', 'while', 'against', 'on', 'all', 'down', 'an', 'before', 'weren', 'nor', 're', 'each', \"isn't\", 'they', 'own', 'some', 'hadn', 'yourself', 'below', \"you'd\", 'between', 'couldn', 'them', 'of', 'be', \"that'll\", 'to', 'when', \"aren't\", \"needn't\", 'wouldn', 'aren', \"won't\", 'having', 'then', 'more', 'my', 'its', 'hasn', 'his', 'which', 'himself', 'isn', 'ours', 'any', 'here', 'and', 'once', 'about', 'that', 'you'}\n"
          ]
        }
      ]
    },
    {
      "cell_type": "code",
      "source": [
        "seed = 170204036\n",
        "torch.manual_seed(seed)"
      ],
      "metadata": {
        "colab": {
          "base_uri": "https://localhost:8080/"
        },
        "id": "adcMeAKVOqVj",
        "outputId": "86aa4cd3-db1a-4934-aa0f-0ae5d6e1093e"
      },
      "execution_count": 69,
      "outputs": [
        {
          "output_type": "execute_result",
          "data": {
            "text/plain": [
              "<torch._C.Generator at 0x7fd23cb68a10>"
            ]
          },
          "metadata": {},
          "execution_count": 69
        }
      ]
    },
    {
      "cell_type": "code",
      "source": [
        "df[\"Sentiment\"] = df[\"Sentiment\"].replace(-1,0)\n",
        "df[\"Sentiment\"].value_counts()"
      ],
      "metadata": {
        "colab": {
          "base_uri": "https://localhost:8080/"
        },
        "id": "ExzVqW3MO3NR",
        "outputId": "f6e74294-9046-4183-c5da-63728d2fd951"
      },
      "execution_count": 70,
      "outputs": [
        {
          "output_type": "execute_result",
          "data": {
            "text/plain": [
              "1    3685\n",
              "0    2106\n",
              "Name: Sentiment, dtype: int64"
            ]
          },
          "metadata": {},
          "execution_count": 70
        }
      ]
    },
    {
      "cell_type": "code",
      "source": [
        "#Checking if any null values present\n",
        "(df.isnull().sum() / len(df))*100"
      ],
      "metadata": {
        "colab": {
          "base_uri": "https://localhost:8080/"
        },
        "id": "dBeagKLoPAP3",
        "outputId": "bc1792df-225a-4357-ffa8-ed7fa7875c8a"
      },
      "execution_count": 71,
      "outputs": [
        {
          "output_type": "execute_result",
          "data": {
            "text/plain": [
              "Text              0.0\n",
              "Sentiment         0.0\n",
              "processed_text    0.0\n",
              "dtype: float64"
            ]
          },
          "metadata": {},
          "execution_count": 71
        }
      ]
    },
    {
      "cell_type": "code",
      "source": [
        "ps = PorterStemmer()\n",
        "lemma = WordNetLemmatizer()\n",
        "stopwordSet = set(stopwords.words(\"english\"))"
      ],
      "metadata": {
        "id": "2GS5I69XPCgH"
      },
      "execution_count": 72,
      "outputs": []
    },
    {
      "cell_type": "code",
      "source": [
        "urlPattern = r\"((http://)[^ ]*|(https://)[^ ]*|( www\\.)[^ ]*)\"\n",
        "userPattern = '@[^\\s]+'\n",
        "def process_text(text):\n",
        "  # Lower Casing\n",
        "    text = text.lower()\n",
        "    text=text[1:]\n",
        "    # Removing all URls \n",
        "    text = re.sub(urlPattern,'',text)\n",
        "    # Removing all @username.\n",
        "    text = re.sub(userPattern,'',text) \n",
        "    #Remove punctuations\n",
        "    text = text.translate(str.maketrans(\"\",\"\",string.punctuation))\n",
        "    #tokenizing words\n",
        "    tokens = word_tokenize(text)\n",
        "    #Removing Stop Words\n",
        "    final_tokens = [w for w in tokens if w not in stopwordSet]\n",
        "    #reducing a word to its word stem \n",
        "    finalwords=[]\n",
        "    for w in final_tokens:\n",
        "      if len(w)>1:\n",
        "        word = ps.stem(w)\n",
        "        finalwords.append(word)\n",
        "    return ' '.join(finalwords)   "
      ],
      "metadata": {
        "id": "7DmV6xo9PEnc"
      },
      "execution_count": 73,
      "outputs": []
    },
    {
      "cell_type": "code",
      "source": [
        "df['processed_text'] = df['Text'].apply(lambda x: process_text(x))\n",
        "print('Text Preprocessing complete.')"
      ],
      "metadata": {
        "colab": {
          "base_uri": "https://localhost:8080/"
        },
        "id": "he7DLDUqPFQD",
        "outputId": "a9d6e797-d1da-4264-dd66-800bdf2d8da6"
      },
      "execution_count": 74,
      "outputs": [
        {
          "output_type": "stream",
          "name": "stdout",
          "text": [
            "Text Preprocessing complete.\n"
          ]
        }
      ]
    },
    {
      "cell_type": "code",
      "source": [
        "print(df.shape)\n",
        "df"
      ],
      "metadata": {
        "colab": {
          "base_uri": "https://localhost:8080/",
          "height": 442
        },
        "id": "VJD1-0HHPGqU",
        "outputId": "851225d0-3442-4c31-ce83-6a6376fb9950"
      },
      "execution_count": 75,
      "outputs": [
        {
          "output_type": "stream",
          "name": "stdout",
          "text": [
            "(5791, 3)\n"
          ]
        },
        {
          "output_type": "execute_result",
          "data": {
            "text/html": [
              "\n",
              "  <div id=\"df-7b4cbcef-b52b-43f1-91a3-faac3ecf4ff4\">\n",
              "    <div class=\"colab-df-container\">\n",
              "      <div>\n",
              "<style scoped>\n",
              "    .dataframe tbody tr th:only-of-type {\n",
              "        vertical-align: middle;\n",
              "    }\n",
              "\n",
              "    .dataframe tbody tr th {\n",
              "        vertical-align: top;\n",
              "    }\n",
              "\n",
              "    .dataframe thead th {\n",
              "        text-align: right;\n",
              "    }\n",
              "</style>\n",
              "<table border=\"1\" class=\"dataframe\">\n",
              "  <thead>\n",
              "    <tr style=\"text-align: right;\">\n",
              "      <th></th>\n",
              "      <th>Text</th>\n",
              "      <th>Sentiment</th>\n",
              "      <th>processed_text</th>\n",
              "    </tr>\n",
              "  </thead>\n",
              "  <tbody>\n",
              "    <tr>\n",
              "      <th>5542</th>\n",
              "      <td>US Stock Markets End Over 2% Higher After Jump...</td>\n",
              "      <td>1</td>\n",
              "      <td>stock market end higher jump crude oil price</td>\n",
              "    </tr>\n",
              "    <tr>\n",
              "      <th>2290</th>\n",
              "      <td>JOE successful test of that 22-23 support I hi...</td>\n",
              "      <td>1</td>\n",
              "      <td>oe success test 2223 support highlight last week</td>\n",
              "    </tr>\n",
              "    <tr>\n",
              "      <th>1128</th>\n",
              "      <td>Did you like my IBM calls and GOOG calls from ...</td>\n",
              "      <td>1</td>\n",
              "      <td>id like ibm call goog call last night</td>\n",
              "    </tr>\n",
              "    <tr>\n",
              "      <th>428</th>\n",
              "      <td>user: DDD broke out from the bear flag to the ...</td>\n",
              "      <td>1</td>\n",
              "      <td>ser ddd broke bear flag upsid ot short underst...</td>\n",
              "    </tr>\n",
              "    <tr>\n",
              "      <th>2524</th>\n",
              "      <td>GD SV NEM ABX AY - The Price of Gold plunges t...</td>\n",
              "      <td>0</td>\n",
              "      <td>sv nem abx ay price gold plung sixmonth low</td>\n",
              "    </tr>\n",
              "    <tr>\n",
              "      <th>...</th>\n",
              "      <td>...</td>\n",
              "      <td>...</td>\n",
              "      <td>...</td>\n",
              "    </tr>\n",
              "    <tr>\n",
              "      <th>62</th>\n",
              "      <td>user Nice! Color me an INTC bull as well!</td>\n",
              "      <td>1</td>\n",
              "      <td>ser nice color intc bull well</td>\n",
              "    </tr>\n",
              "    <tr>\n",
              "      <th>335</th>\n",
              "      <td>yum down premarket through the cloud but has s...</td>\n",
              "      <td>0</td>\n",
              "      <td>um premarket cloud support 6275</td>\n",
              "    </tr>\n",
              "    <tr>\n",
              "      <th>4097</th>\n",
              "      <td>PK taking some off here</td>\n",
              "      <td>1</td>\n",
              "      <td>take</td>\n",
              "    </tr>\n",
              "    <tr>\n",
              "      <th>4259</th>\n",
              "      <td>AAP here come the Europeans.. maybe they will ...</td>\n",
              "      <td>1</td>\n",
              "      <td>ap come european mayb save us</td>\n",
              "    </tr>\n",
              "    <tr>\n",
              "      <th>2563</th>\n",
              "      <td>Nice share.... user: AMZN intraday short expla...</td>\n",
              "      <td>0</td>\n",
              "      <td>ice share user amzn intraday short explain</td>\n",
              "    </tr>\n",
              "  </tbody>\n",
              "</table>\n",
              "<p>5791 rows × 3 columns</p>\n",
              "</div>\n",
              "      <button class=\"colab-df-convert\" onclick=\"convertToInteractive('df-7b4cbcef-b52b-43f1-91a3-faac3ecf4ff4')\"\n",
              "              title=\"Convert this dataframe to an interactive table.\"\n",
              "              style=\"display:none;\">\n",
              "        \n",
              "  <svg xmlns=\"http://www.w3.org/2000/svg\" height=\"24px\"viewBox=\"0 0 24 24\"\n",
              "       width=\"24px\">\n",
              "    <path d=\"M0 0h24v24H0V0z\" fill=\"none\"/>\n",
              "    <path d=\"M18.56 5.44l.94 2.06.94-2.06 2.06-.94-2.06-.94-.94-2.06-.94 2.06-2.06.94zm-11 1L8.5 8.5l.94-2.06 2.06-.94-2.06-.94L8.5 2.5l-.94 2.06-2.06.94zm10 10l.94 2.06.94-2.06 2.06-.94-2.06-.94-.94-2.06-.94 2.06-2.06.94z\"/><path d=\"M17.41 7.96l-1.37-1.37c-.4-.4-.92-.59-1.43-.59-.52 0-1.04.2-1.43.59L10.3 9.45l-7.72 7.72c-.78.78-.78 2.05 0 2.83L4 21.41c.39.39.9.59 1.41.59.51 0 1.02-.2 1.41-.59l7.78-7.78 2.81-2.81c.8-.78.8-2.07 0-2.86zM5.41 20L4 18.59l7.72-7.72 1.47 1.35L5.41 20z\"/>\n",
              "  </svg>\n",
              "      </button>\n",
              "      \n",
              "  <style>\n",
              "    .colab-df-container {\n",
              "      display:flex;\n",
              "      flex-wrap:wrap;\n",
              "      gap: 12px;\n",
              "    }\n",
              "\n",
              "    .colab-df-convert {\n",
              "      background-color: #E8F0FE;\n",
              "      border: none;\n",
              "      border-radius: 50%;\n",
              "      cursor: pointer;\n",
              "      display: none;\n",
              "      fill: #1967D2;\n",
              "      height: 32px;\n",
              "      padding: 0 0 0 0;\n",
              "      width: 32px;\n",
              "    }\n",
              "\n",
              "    .colab-df-convert:hover {\n",
              "      background-color: #E2EBFA;\n",
              "      box-shadow: 0px 1px 2px rgba(60, 64, 67, 0.3), 0px 1px 3px 1px rgba(60, 64, 67, 0.15);\n",
              "      fill: #174EA6;\n",
              "    }\n",
              "\n",
              "    [theme=dark] .colab-df-convert {\n",
              "      background-color: #3B4455;\n",
              "      fill: #D2E3FC;\n",
              "    }\n",
              "\n",
              "    [theme=dark] .colab-df-convert:hover {\n",
              "      background-color: #434B5C;\n",
              "      box-shadow: 0px 1px 3px 1px rgba(0, 0, 0, 0.15);\n",
              "      filter: drop-shadow(0px 1px 2px rgba(0, 0, 0, 0.3));\n",
              "      fill: #FFFFFF;\n",
              "    }\n",
              "  </style>\n",
              "\n",
              "      <script>\n",
              "        const buttonEl =\n",
              "          document.querySelector('#df-7b4cbcef-b52b-43f1-91a3-faac3ecf4ff4 button.colab-df-convert');\n",
              "        buttonEl.style.display =\n",
              "          google.colab.kernel.accessAllowed ? 'block' : 'none';\n",
              "\n",
              "        async function convertToInteractive(key) {\n",
              "          const element = document.querySelector('#df-7b4cbcef-b52b-43f1-91a3-faac3ecf4ff4');\n",
              "          const dataTable =\n",
              "            await google.colab.kernel.invokeFunction('convertToInteractive',\n",
              "                                                     [key], {});\n",
              "          if (!dataTable) return;\n",
              "\n",
              "          const docLinkHtml = 'Like what you see? Visit the ' +\n",
              "            '<a target=\"_blank\" href=https://colab.research.google.com/notebooks/data_table.ipynb>data table notebook</a>'\n",
              "            + ' to learn more about interactive tables.';\n",
              "          element.innerHTML = '';\n",
              "          dataTable['output_type'] = 'display_data';\n",
              "          await google.colab.output.renderOutput(dataTable, element);\n",
              "          const docLink = document.createElement('div');\n",
              "          docLink.innerHTML = docLinkHtml;\n",
              "          element.appendChild(docLink);\n",
              "        }\n",
              "      </script>\n",
              "    </div>\n",
              "  </div>\n",
              "  "
            ],
            "text/plain": [
              "                                                   Text  ...                                     processed_text\n",
              "5542  US Stock Markets End Over 2% Higher After Jump...  ...       stock market end higher jump crude oil price\n",
              "2290  JOE successful test of that 22-23 support I hi...  ...   oe success test 2223 support highlight last week\n",
              "1128  Did you like my IBM calls and GOOG calls from ...  ...              id like ibm call goog call last night\n",
              "428   user: DDD broke out from the bear flag to the ...  ...  ser ddd broke bear flag upsid ot short underst...\n",
              "2524  GD SV NEM ABX AY - The Price of Gold plunges t...  ...        sv nem abx ay price gold plung sixmonth low\n",
              "...                                                 ...  ...                                                ...\n",
              "62            user Nice! Color me an INTC bull as well!  ...                      ser nice color intc bull well\n",
              "335   yum down premarket through the cloud but has s...  ...                    um premarket cloud support 6275\n",
              "4097                            PK taking some off here  ...                                               take\n",
              "4259  AAP here come the Europeans.. maybe they will ...  ...                      ap come european mayb save us\n",
              "2563  Nice share.... user: AMZN intraday short expla...  ...         ice share user amzn intraday short explain\n",
              "\n",
              "[5791 rows x 3 columns]"
            ]
          },
          "metadata": {},
          "execution_count": 75
        }
      ]
    },
    {
      "cell_type": "code",
      "source": [
        "cv = CountVectorizer(max_features = len(df))\n",
        "X = cv.fit_transform(df['processed_text']).toarray()\n",
        "y= df['Sentiment'].to_numpy()\n",
        "\n",
        "#X = torch.from_numpy(X).type(torch.LongTensor)\n",
        "#y = torch.from_numpy(y).type(torch.LongTensor)\n",
        "\n",
        "X = torch.from_numpy(X)\n",
        "y = torch.from_numpy(y)"
      ],
      "metadata": {
        "id": "mkHqYMU2PJTc"
      },
      "execution_count": 76,
      "outputs": []
    },
    {
      "cell_type": "code",
      "source": [
        "## Split the dataset into Training and Test set\n",
        "X_train, X_test, y_train, y_test = train_test_split(X, y , test_size=0.2, random_state = seed)\n",
        "\n",
        "X_train = X_train.type(torch.FloatTensor)\n",
        "X_test = X_test.type(torch.FloatTensor)\n",
        "y_train = y_train.type(torch.FloatTensor)\n",
        "y_test = y_test.type(torch.FloatTensor)\n",
        "\n",
        "device = torch.device('cuda' if torch.cuda.is_available() else 'cpu')"
      ],
      "metadata": {
        "id": "wiFIDzJ6PLIm"
      },
      "execution_count": 77,
      "outputs": []
    },
    {
      "cell_type": "code",
      "source": [
        "class NeuralNetwork(nn.Module):\n",
        "    def __init__(self, input_dim):\n",
        "        super(NeuralNetwork, self).__init__()\n",
        "        self.layer_1 = nn.Linear(input_dim, 512) \n",
        "        self.layer_2 = nn.Linear(512, 256) \n",
        "        self.layer_3 = nn.Linear(256, 64)   \n",
        "        self.layer_4 = nn.Linear(64, 1) \n",
        "        self.relu = nn.ReLU()\n",
        "        self.sigmoid = nn.Sigmoid()\n",
        "        self.dropout = nn.Dropout()\n",
        "        # self.flatten = nn.Flatten()\n",
        "\n",
        "        \n",
        "    def forward(self, x):\n",
        "        x = self.layer_1(x)\n",
        "        x = self.dropout(x)\n",
        "        x = self.relu(x)\n",
        "        x = self.layer_2(x)\n",
        "        x = self.dropout(x)\n",
        "        x = self.relu(x)\n",
        "        x = self.layer_3(x)\n",
        "        x = self.dropout(x)\n",
        "        x = self.relu(x)\n",
        "        x = self.layer_4(x)\n",
        "        logits = self.sigmoid(x)\n",
        "        return logits"
      ],
      "metadata": {
        "id": "JNC7hzvKPMSn"
      },
      "execution_count": 104,
      "outputs": []
    },
    {
      "cell_type": "code",
      "source": [
        "model = NeuralNetwork(len(df))\n",
        "print(model)"
      ],
      "metadata": {
        "colab": {
          "base_uri": "https://localhost:8080/"
        },
        "id": "1fji7OkcPRXQ",
        "outputId": "6914ff13-1e82-4abd-cb02-9b85ec80cdd1"
      },
      "execution_count": 105,
      "outputs": [
        {
          "output_type": "stream",
          "name": "stdout",
          "text": [
            "NeuralNetwork(\n",
            "  (layer_1): Linear(in_features=5791, out_features=512, bias=True)\n",
            "  (layer_2): Linear(in_features=512, out_features=256, bias=True)\n",
            "  (layer_3): Linear(in_features=256, out_features=64, bias=True)\n",
            "  (layer_4): Linear(in_features=64, out_features=1, bias=True)\n",
            "  (relu): ReLU()\n",
            "  (sigmoid): Sigmoid()\n",
            "  (dropout): Dropout(p=0.5, inplace=False)\n",
            ")\n"
          ]
        }
      ]
    },
    {
      "cell_type": "code",
      "source": [
        "import torch.optim as optim\n",
        "optimizer = optim.Adam(model.parameters())\n",
        "\n",
        "loss_fn = nn.BCEWithLogitsLoss()\n",
        "model = model.to(device)\n",
        "\n",
        "loss_fn = loss_fn.to(device)"
      ],
      "metadata": {
        "id": "F4N6l4rcPTVU"
      },
      "execution_count": 106,
      "outputs": []
    },
    {
      "cell_type": "code",
      "source": [
        "def binary_accuracy(preds, y):\n",
        "    \"\"\"\n",
        "    Returns accuracy per batch, i.e. if you get 8/10 right, this returns 0.8, NOT 8\n",
        "    \"\"\"\n",
        "\n",
        "    #round predictions to the closest integer\n",
        "    rounded_preds = torch.round(torch.sigmoid(preds))\n",
        "    correct = (rounded_preds == y).float() #convert into float for division \n",
        "    acc = correct.sum() / len(correct)\n",
        "    return acc"
      ],
      "metadata": {
        "id": "S5JPlDjPPU-3"
      },
      "execution_count": 107,
      "outputs": []
    },
    {
      "cell_type": "code",
      "source": [
        "def trainModel(model, loss_fn, optimizer):\n",
        "    model.train()\n",
        "\n",
        "    batch = 256\n",
        "    size = X_test.shape[0]\n",
        "\n",
        "    loss = 0\n",
        "    acc = 0\n",
        "    \n",
        "\n",
        "    for i in range(X_train.shape[0]):\n",
        "      x, y = X_train[i], torch.tensor([y_train[i]], dtype=torch.float)\n",
        "    \n",
        "      # Compute prediction \n",
        "      pred = model(x)\n",
        "      loss += loss_fn(pred,y)\n",
        "      acc += binary_accuracy(pred,y)\n",
        "      \n",
        "      if i>0 and (i+1)%batch == 0:\n",
        "          # Backpropagation\n",
        "          optimizer.zero_grad()\n",
        "          loss.backward()\n",
        "          optimizer.step()\n",
        "         # print(f'Training Loss: {loss.item():.4f}', end=\"\\r\")\n",
        "         # print(f'\\tTraining Loss: {loss.item():.3f} | Training Acc: {acc.item()*100:.2f}%')\n",
        "          loss = 0\n",
        "          acc = 0\n",
        "    print()\n",
        "    return loss.item()/size, acc.item()/size"
      ],
      "metadata": {
        "id": "-cXIUQ5vPViI"
      },
      "execution_count": 108,
      "outputs": []
    },
    {
      "cell_type": "code",
      "source": [
        "from numpy.lib.function_base import append\n",
        "\n",
        "TP=[]\n",
        "TN=[]\n",
        "FP=[]\n",
        "FN=[]\n",
        "def testModel(model, loss_fn):\n",
        "    model.eval()\n",
        "    size = X_test.shape[0]\n",
        "    loss = 0\n",
        "    acc = 0\n",
        "    with torch.no_grad():\n",
        "      for i in range(X_test.shape[0]):\n",
        "        x, y = X_test[i], torch.tensor([y_test[i]], dtype=torch.float)\n",
        "    \n",
        "        # Compute prediction error\n",
        "        pred = model(x)\n",
        "        if( (torch.round(pred)) == 1 and y== 0) :\n",
        "           FP.append(1)\n",
        "        if( (torch.round(pred)) == 0 and y== 1) :\n",
        "           FN.append(1)\n",
        "        if( (torch.round(pred)) == 1 and y== 1) :\n",
        "           TP.append(1)\n",
        "        if( (torch.round(pred)) == 0 and y== 0) :\n",
        "           TN.append(1)         \n",
        "       \n",
        "            \n",
        "        loss += loss_fn(pred, y).item()\n",
        "        acc += binary_accuracy(pred,y).item()\n",
        "      \n",
        "    loss /= size\n",
        "    acc /= size\n",
        "    \n",
        "    #print(f'Testing Loss: {loss}')\n",
        "    #print(f'\\t Val. Loss: {loss:.3f} |  Val. Acc: {acc*100:.2f}%')\n",
        "  \n",
        "    return loss, acc  "
      ],
      "metadata": {
        "id": "oAEVEE5SPZWs"
      },
      "execution_count": 109,
      "outputs": []
    },
    {
      "cell_type": "code",
      "source": [
        "epochs = 10\n",
        "best_valid_loss = float('inf')\n",
        "\n",
        "# train for some number of epochs\n",
        "epoch_tr_loss,epoch_vl_loss = [],[]\n",
        "epoch_tr_acc,epoch_vl_acc = [],[]\n",
        "\n",
        "for epoch in range(epochs):\n",
        "\n",
        "    train_loss,train_acc = trainModel(model, loss_fn, optimizer)\n",
        "    valid_loss, valid_acc = testModel(model, loss_fn)\n",
        "\n",
        "    if valid_loss < best_valid_loss:\n",
        "        best_valid_loss = valid_loss\n",
        "        torch.save(model.state_dict(), 'stock_sentiment.pt')\n",
        "    \n",
        "    print(f'\\tTrain Loss: {train_loss:.3f} | Train Acc: {train_acc*100:.2f}%')\n",
        "    print(f'\\t Val. Loss: {valid_loss:.3f} |  Val. Acc: {valid_acc*100:.2f}%')\n",
        "    \n",
        "    epoch_tr_loss.append(train_loss)\n",
        "    epoch_vl_loss.append(valid_loss)\n",
        "    epoch_tr_acc.append(train_acc)\n",
        "    epoch_vl_acc.append(valid_acc)"
      ],
      "metadata": {
        "colab": {
          "base_uri": "https://localhost:8080/"
        },
        "id": "wZd4wh1YPehv",
        "outputId": "2d920b7c-e8d3-4267-ee26-8ad4fdef55e8"
      },
      "execution_count": 110,
      "outputs": [
        {
          "output_type": "stream",
          "name": "stdout",
          "text": [
            "\n",
            "\tTrain Loss: 0.014 | Train Acc: 1.21%\n",
            "\t Val. Loss: 0.661 |  Val. Acc: 61.78%\n",
            "\n",
            "\tTrain Loss: 0.014 | Train Acc: 1.21%\n",
            "\t Val. Loss: 0.615 |  Val. Acc: 61.78%\n",
            "\n",
            "\tTrain Loss: 0.013 | Train Acc: 1.21%\n",
            "\t Val. Loss: 0.570 |  Val. Acc: 61.78%\n",
            "\n",
            "\tTrain Loss: 0.014 | Train Acc: 1.21%\n",
            "\t Val. Loss: 0.571 |  Val. Acc: 61.78%\n",
            "\n",
            "\tTrain Loss: 0.013 | Train Acc: 1.21%\n",
            "\t Val. Loss: 0.572 |  Val. Acc: 62.12%\n",
            "\n",
            "\tTrain Loss: 0.014 | Train Acc: 1.21%\n",
            "\t Val. Loss: 0.576 |  Val. Acc: 62.04%\n",
            "\n",
            "\tTrain Loss: 0.014 | Train Acc: 1.21%\n",
            "\t Val. Loss: 0.579 |  Val. Acc: 62.04%\n",
            "\n",
            "\tTrain Loss: 0.014 | Train Acc: 1.21%\n",
            "\t Val. Loss: 0.573 |  Val. Acc: 62.38%\n",
            "\n",
            "\tTrain Loss: 0.013 | Train Acc: 1.21%\n",
            "\t Val. Loss: 0.574 |  Val. Acc: 62.90%\n",
            "\n",
            "\tTrain Loss: 0.013 | Train Acc: 1.21%\n",
            "\t Val. Loss: 0.576 |  Val. Acc: 62.73%\n"
          ]
        }
      ]
    },
    {
      "cell_type": "code",
      "source": [
        "TP=len(TP)\n",
        "TN=len(TN)\n",
        "FP=len(FP)\n",
        "FN=len(FN)"
      ],
      "metadata": {
        "id": "bYznaSUKPfO4"
      },
      "execution_count": 111,
      "outputs": []
    },
    {
      "cell_type": "code",
      "source": [
        "acc=(TP+TN)/(TP+TN+FN+FP)\n",
        "acc"
      ],
      "metadata": {
        "colab": {
          "base_uri": "https://localhost:8080/"
        },
        "id": "ULbhTvVVPhFq",
        "outputId": "5649f31a-6cc3-4fe4-bb64-fb7fcbd20009"
      },
      "execution_count": 112,
      "outputs": [
        {
          "output_type": "execute_result",
          "data": {
            "text/plain": [
              "0.7535806729939604"
            ]
          },
          "metadata": {},
          "execution_count": 112
        }
      ]
    },
    {
      "cell_type": "code",
      "source": [
        "prec=TP/(TP+FP)\n",
        "prec"
      ],
      "metadata": {
        "colab": {
          "base_uri": "https://localhost:8080/"
        },
        "id": "QI4nsOXKVPnf",
        "outputId": "59425751-cb34-443f-d67b-e324b75a8937"
      },
      "execution_count": 113,
      "outputs": [
        {
          "output_type": "execute_result",
          "data": {
            "text/plain": [
              "0.7766778092054513"
            ]
          },
          "metadata": {},
          "execution_count": 113
        }
      ]
    },
    {
      "cell_type": "code",
      "source": [
        "rec=TP/(TP+FN)\n",
        "rec"
      ],
      "metadata": {
        "colab": {
          "base_uri": "https://localhost:8080/"
        },
        "id": "8CQPaRzyPjG4",
        "outputId": "deed81dc-f8c7-4171-f6ed-2a82338f46ed"
      },
      "execution_count": 114,
      "outputs": [
        {
          "output_type": "execute_result",
          "data": {
            "text/plain": [
              "0.8437150837988827"
            ]
          },
          "metadata": {},
          "execution_count": 114
        }
      ]
    },
    {
      "cell_type": "code",
      "source": [
        "f1score=2*prec*rec/(prec+rec)\n",
        "f1score"
      ],
      "metadata": {
        "colab": {
          "base_uri": "https://localhost:8080/"
        },
        "id": "M4Yn0L_8P5xj",
        "outputId": "626c0bad-6f66-4dd5-f125-838b60f47857"
      },
      "execution_count": 115,
      "outputs": [
        {
          "output_type": "execute_result",
          "data": {
            "text/plain": [
              "0.8088097469540769"
            ]
          },
          "metadata": {},
          "execution_count": 115
        }
      ]
    },
    {
      "cell_type": "markdown",
      "source": [
        "# TF-IDF + NN"
      ],
      "metadata": {
        "id": "TOKQHOiUP9KT"
      }
    },
    {
      "cell_type": "code",
      "source": [
        "tfidf = TfidfVectorizer( ngram_range=(1,3), analyzer='char')\n",
        "X = cv.fit_transform(df['processed_text']).toarray()\n",
        "y= df['Sentiment'].to_numpy()\n",
        "\n",
        "X = torch.from_numpy(X)\n",
        "y = torch.from_numpy(y)"
      ],
      "metadata": {
        "cellView": "code",
        "id": "64w0QI-BQTZK"
      },
      "execution_count": 90,
      "outputs": []
    },
    {
      "cell_type": "code",
      "source": [
        "## Split the dataset into Training and Test set\n",
        "X_train, X_test, y_train, y_test = train_test_split(X, y , test_size=0.2, random_state = seed)\n",
        "\n",
        "X_train = X_train.type(torch.FloatTensor)\n",
        "X_test = X_test.type(torch.FloatTensor)\n",
        "y_train = y_train.type(torch.FloatTensor)\n",
        "y_test = y_test.type(torch.FloatTensor)\n",
        "\n",
        "device = torch.device('cuda' if torch.cuda.is_available() else 'cpu')"
      ],
      "metadata": {
        "id": "PQYF9gmAQgx_"
      },
      "execution_count": 91,
      "outputs": []
    },
    {
      "cell_type": "code",
      "source": [
        "class NeuralNetwork(nn.Module):\n",
        "    def __init__(self, input_dim):\n",
        "        super(NeuralNetwork, self).__init__()\n",
        "        self.layer_1 = nn.Linear(input_dim, 512) \n",
        "        self.layer_2 = nn.Linear(512, 128) \n",
        "        self.layer_3 = nn.Linear(128, 1)   \n",
        "        self.relu = nn.ReLU()\n",
        "        self.sigmoid = nn.Sigmoid()\n",
        "        self.dropout = nn.Dropout()\n",
        "        # self.flatten = nn.Flatten()\n",
        "\n",
        "    def forward(self, x):\n",
        "        x = self.layer_1(x)\n",
        "        x = self.dropout(x)\n",
        "        x = self.relu(x)\n",
        "        x = self.layer_2(x)\n",
        "        x = self.dropout(x)\n",
        "        x = self.relu(x)\n",
        "        x = self.layer_3(x)\n",
        "        logits = self.sigmoid(x)\n",
        "        return logits"
      ],
      "metadata": {
        "id": "XpozX8vrQuPa"
      },
      "execution_count": 92,
      "outputs": []
    },
    {
      "cell_type": "code",
      "source": [
        "model = NeuralNetwork(len(df))\n",
        "print(model)"
      ],
      "metadata": {
        "colab": {
          "base_uri": "https://localhost:8080/"
        },
        "id": "r9b-Ri4AQxrg",
        "outputId": "fed51c30-8704-4e88-8040-f9f6ed08bcf4"
      },
      "execution_count": 93,
      "outputs": [
        {
          "output_type": "stream",
          "name": "stdout",
          "text": [
            "NeuralNetwork(\n",
            "  (layer_1): Linear(in_features=5791, out_features=512, bias=True)\n",
            "  (layer_2): Linear(in_features=512, out_features=128, bias=True)\n",
            "  (layer_3): Linear(in_features=128, out_features=1, bias=True)\n",
            "  (relu): ReLU()\n",
            "  (sigmoid): Sigmoid()\n",
            "  (dropout): Dropout(p=0.5, inplace=False)\n",
            ")\n"
          ]
        }
      ]
    },
    {
      "cell_type": "code",
      "source": [
        "import torch.optim as optim\n",
        "optimizer = optim.Adam(model.parameters())\n",
        "\n",
        "loss_fn = nn.BCEWithLogitsLoss()\n",
        "model = model.to(device)\n",
        "loss_fn = loss_fn.to(device)"
      ],
      "metadata": {
        "id": "OzzKhZVqQzXZ"
      },
      "execution_count": 94,
      "outputs": []
    },
    {
      "cell_type": "code",
      "source": [
        "def binary_accuracy(preds, y):\n",
        "\n",
        "    #round predictions to the closest integer\n",
        "    rounded_preds = torch.round(torch.sigmoid(preds))\n",
        "    correct = (rounded_preds == y).float() #convert into float for division \n",
        "    acc = correct.sum() / len(correct)\n",
        "    return acc"
      ],
      "metadata": {
        "id": "g1ERXUuBQ1Rv"
      },
      "execution_count": 95,
      "outputs": []
    },
    {
      "cell_type": "code",
      "source": [
        "def trainModel(model, loss_fn, optimizer):\n",
        "    model.train()\n",
        "\n",
        "    batch = 256\n",
        "    size = X_test.shape[0]\n",
        "\n",
        "    loss = 0\n",
        "    acc = 0\n",
        "    \n",
        "\n",
        "    for i in range(X_train.shape[0]):\n",
        "      x, y = X_train[i], torch.tensor([y_train[i]], dtype=torch.float)\n",
        "    \n",
        "      # Compute prediction \n",
        "      pred = model(x)\n",
        "      loss += loss_fn(pred,y)\n",
        "      acc += binary_accuracy(pred,y)\n",
        "      \n",
        "      if i>0 and (i+1)%batch == 0:\n",
        "          # Backpropagation\n",
        "          optimizer.zero_grad()\n",
        "          loss.backward()\n",
        "          optimizer.step()\n",
        "         # print(f'Training Loss: {loss.item():.4f}', end=\"\\r\")\n",
        "         # print(f'\\tTraining Loss: {loss.item():.3f} | Training Acc: {acc.item()*100:.2f}%')\n",
        "          loss = 0\n",
        "          acc = 0\n",
        "    print()\n",
        "    return loss.item()/size, acc.item()/size"
      ],
      "metadata": {
        "id": "wjqSx6_fQ3Bb"
      },
      "execution_count": 96,
      "outputs": []
    },
    {
      "cell_type": "code",
      "source": [
        "from numpy.lib.function_base import append\n",
        "\n",
        "TP=[]\n",
        "TN=[]\n",
        "FP=[]\n",
        "FN=[]\n",
        "def testModel(model, loss_fn):\n",
        "    model.eval()\n",
        "    size = X_test.shape[0]\n",
        "    loss = 0\n",
        "    acc = 0\n",
        "    \n",
        "    with torch.no_grad():\n",
        "      for i in range(X_test.shape[0]):\n",
        "        x, y = X_test[i], torch.tensor([y_test[i]], dtype=torch.float)\n",
        "    \n",
        "        # Compute prediction error\n",
        "        pred = model(x)\n",
        "        if( (torch.round(pred)) == 1 and y== 0) :\n",
        "           FP.append(1)\n",
        "        if( (torch.round(pred)) == 0 and y== 1) :\n",
        "           FN.append(1)\n",
        "        if( (torch.round(pred)) == 1 and y== 1) :\n",
        "           TP.append(1)\n",
        "        if( (torch.round(pred)) == 0 and y== 0) :\n",
        "           TN.append(1)         \n",
        "       \n",
        "            \n",
        "        loss += loss_fn(pred, y).item()\n",
        "        acc += binary_accuracy(pred,y).item()\n",
        "      \n",
        "    loss /= size\n",
        "    acc /= size\n",
        "    \n",
        "    #print(f'Testing Loss: {loss}')\n",
        "    #print(f'\\t Val. Loss: {loss:.3f} |  Val. Acc: {acc*100:.2f}%')\n",
        "  \n",
        "    return loss, acc"
      ],
      "metadata": {
        "id": "LNsHgyrIQ6NN"
      },
      "execution_count": 97,
      "outputs": []
    },
    {
      "cell_type": "code",
      "source": [
        "epochs = 20\n",
        "best_valid_loss = float('inf')\n",
        "\n",
        "# train for some number of epochs\n",
        "epoch_tr_loss,epoch_vl_loss = [],[]\n",
        "epoch_tr_acc,epoch_vl_acc = [],[]\n",
        "\n",
        "for epoch in range(epochs):\n",
        "\n",
        "    train_loss,train_acc = trainModel(model, loss_fn, optimizer)\n",
        "    valid_loss, valid_acc = testModel(model, loss_fn)\n",
        "    \n",
        "    if valid_loss < best_valid_loss:\n",
        "        best_valid_loss = valid_loss\n",
        "        torch.save(model.state_dict(), 'stock_sentiment.pt')\n",
        "    \n",
        "    print(f'\\tTrain Loss: {train_loss:.3f} | Train Acc: {train_acc*100:.2f}%')\n",
        "    print(f'\\t Val. Loss: {valid_loss:.3f} |  Val. Acc: {valid_acc*100:.2f}%')\n",
        "    \n",
        "    epoch_tr_loss.append(train_loss)\n",
        "    epoch_vl_loss.append(valid_loss)\n",
        "    epoch_tr_acc.append(train_acc)\n",
        "    epoch_vl_acc.append(valid_acc)"
      ],
      "metadata": {
        "colab": {
          "base_uri": "https://localhost:8080/"
        },
        "id": "Lfkd5ctvQ_Jg",
        "outputId": "05bfc9c0-e271-4b57-ad16-cbd6d7f5003e"
      },
      "execution_count": 98,
      "outputs": [
        {
          "output_type": "stream",
          "name": "stdout",
          "text": [
            "\n",
            "\tTrain Loss: 0.014 | Train Acc: 1.21%\n",
            "\t Val. Loss: 0.658 |  Val. Acc: 61.78%\n",
            "\n",
            "\tTrain Loss: 0.014 | Train Acc: 1.21%\n",
            "\t Val. Loss: 0.610 |  Val. Acc: 61.78%\n",
            "\n",
            "\tTrain Loss: 0.013 | Train Acc: 1.21%\n",
            "\t Val. Loss: 0.574 |  Val. Acc: 61.78%\n",
            "\n",
            "\tTrain Loss: 0.013 | Train Acc: 1.21%\n",
            "\t Val. Loss: 0.573 |  Val. Acc: 61.78%\n",
            "\n",
            "\tTrain Loss: 0.013 | Train Acc: 1.21%\n",
            "\t Val. Loss: 0.574 |  Val. Acc: 61.78%\n",
            "\n",
            "\tTrain Loss: 0.014 | Train Acc: 1.21%\n",
            "\t Val. Loss: 0.579 |  Val. Acc: 61.78%\n",
            "\n",
            "\tTrain Loss: 0.013 | Train Acc: 1.21%\n",
            "\t Val. Loss: 0.575 |  Val. Acc: 61.86%\n",
            "\n",
            "\tTrain Loss: 0.013 | Train Acc: 1.21%\n",
            "\t Val. Loss: 0.574 |  Val. Acc: 62.21%\n",
            "\n",
            "\tTrain Loss: 0.013 | Train Acc: 1.21%\n",
            "\t Val. Loss: 0.577 |  Val. Acc: 62.04%\n",
            "\n",
            "\tTrain Loss: 0.013 | Train Acc: 1.21%\n",
            "\t Val. Loss: 0.581 |  Val. Acc: 62.12%\n",
            "\n",
            "\tTrain Loss: 0.013 | Train Acc: 1.21%\n",
            "\t Val. Loss: 0.576 |  Val. Acc: 62.73%\n",
            "\n",
            "\tTrain Loss: 0.013 | Train Acc: 1.21%\n",
            "\t Val. Loss: 0.580 |  Val. Acc: 62.81%\n",
            "\n",
            "\tTrain Loss: 0.013 | Train Acc: 1.21%\n",
            "\t Val. Loss: 0.578 |  Val. Acc: 63.07%\n",
            "\n",
            "\tTrain Loss: 0.013 | Train Acc: 1.21%\n",
            "\t Val. Loss: 0.579 |  Val. Acc: 63.24%\n",
            "\n",
            "\tTrain Loss: 0.014 | Train Acc: 1.21%\n",
            "\t Val. Loss: 0.580 |  Val. Acc: 63.50%\n",
            "\n",
            "\tTrain Loss: 0.013 | Train Acc: 1.21%\n",
            "\t Val. Loss: 0.580 |  Val. Acc: 63.68%\n",
            "\n",
            "\tTrain Loss: 0.014 | Train Acc: 1.21%\n",
            "\t Val. Loss: 0.580 |  Val. Acc: 64.02%\n",
            "\n",
            "\tTrain Loss: 0.013 | Train Acc: 1.21%\n",
            "\t Val. Loss: 0.580 |  Val. Acc: 64.37%\n",
            "\n",
            "\tTrain Loss: 0.014 | Train Acc: 1.12%\n",
            "\t Val. Loss: 0.582 |  Val. Acc: 64.37%\n",
            "\n",
            "\tTrain Loss: 0.013 | Train Acc: 1.21%\n",
            "\t Val. Loss: 0.580 |  Val. Acc: 64.80%\n"
          ]
        }
      ]
    },
    {
      "cell_type": "code",
      "source": [
        "TP=len(TP)\n",
        "TN=len(TN)\n",
        "FP=len(FP)\n",
        "FN=len(FN)"
      ],
      "metadata": {
        "id": "PmeNcPlbQ_5y"
      },
      "execution_count": 99,
      "outputs": []
    },
    {
      "cell_type": "code",
      "source": [
        "acc=(TP+TN)/(TP+TN+FN+FP)\n",
        "acc"
      ],
      "metadata": {
        "colab": {
          "base_uri": "https://localhost:8080/"
        },
        "id": "qHcmPqIuROxR",
        "outputId": "f30998b3-9019-4d17-dcde-95395fb3299b"
      },
      "execution_count": 100,
      "outputs": [
        {
          "output_type": "execute_result",
          "data": {
            "text/plain": [
              "0.7584555651423641"
            ]
          },
          "metadata": {},
          "execution_count": 100
        }
      ]
    },
    {
      "cell_type": "code",
      "source": [
        "prec=TP/(TP+FP)\n",
        "prec"
      ],
      "metadata": {
        "colab": {
          "base_uri": "https://localhost:8080/"
        },
        "id": "PQ7EndGYUYo8",
        "outputId": "6342a7ff-a27e-45ff-e98c-49f08be88dc3"
      },
      "execution_count": 101,
      "outputs": [
        {
          "output_type": "execute_result",
          "data": {
            "text/plain": [
              "0.7847208619000979"
            ]
          },
          "metadata": {},
          "execution_count": 101
        }
      ]
    },
    {
      "cell_type": "code",
      "source": [
        "rec=TP/(TP+FN)\n",
        "rec"
      ],
      "metadata": {
        "colab": {
          "base_uri": "https://localhost:8080/"
        },
        "id": "V3XqphFyRS0B",
        "outputId": "ed8be16c-0522-46d1-ea12-1884dc59fec2"
      },
      "execution_count": 102,
      "outputs": [
        {
          "output_type": "execute_result",
          "data": {
            "text/plain": [
              "0.839245810055866"
            ]
          },
          "metadata": {},
          "execution_count": 102
        }
      ]
    },
    {
      "cell_type": "code",
      "source": [
        "f1score=2*prec*rec/(prec+rec)\n",
        "f1score"
      ],
      "metadata": {
        "colab": {
          "base_uri": "https://localhost:8080/"
        },
        "id": "Lr_Tf4TURUu8",
        "outputId": "23f28b2d-4c59-4594-fa69-ace7beb99a3c"
      },
      "execution_count": 103,
      "outputs": [
        {
          "output_type": "execute_result",
          "data": {
            "text/plain": [
              "0.8110679939261008"
            ]
          },
          "metadata": {},
          "execution_count": 103
        }
      ]
    }
  ]
}